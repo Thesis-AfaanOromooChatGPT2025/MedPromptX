{
  "metadata": {
    "kernelspec": {
      "name": "python3",
      "display_name": "Python 3"
    },
    "language_info": {
      "name": "python"
    },
    "colab": {
      "provenance": [],
      "name": "Lung Cancer Patient Data - EDA & Insights",
      "include_colab_link": true
    },
    "kaggle": {
      "accelerator": "none",
      "dataSources": [
        {
          "sourceId": 12275572,
          "sourceType": "datasetVersion",
          "datasetId": 7735754
        }
      ],
      "dockerImageVersionId": 31089,
      "isInternetEnabled": false,
      "language": "python",
      "sourceType": "notebook",
      "isGpuEnabled": false
    }
  },
  "nbformat_minor": 0,
  "nbformat": 4,
  "cells": [
    {
      "cell_type": "markdown",
      "metadata": {
        "id": "view-in-github",
        "colab_type": "text"
      },
      "source": [
        "<a href=\"https://colab.research.google.com/github/Thesis-AfaanOromooChatGPT2025/MedPromptX/blob/main/Lung_Cancer_Patient_Data_EDA_%26_Insights.ipynb\" target=\"_parent\"><img src=\"https://colab.research.google.com/assets/colab-badge.svg\" alt=\"Open In Colab\"/></a>"
      ]
    },
    {
      "source": [
        "# IMPORTANT: RUN THIS CELL IN ORDER TO IMPORT YOUR KAGGLE DATA SOURCES,\n",
        "# THEN FEEL FREE TO DELETE THIS CELL.\n",
        "# NOTE: THIS NOTEBOOK ENVIRONMENT DIFFERS FROM KAGGLE'S PYTHON\n",
        "# ENVIRONMENT SO THERE MAY BE MISSING LIBRARIES USED BY YOUR\n",
        "# NOTEBOOK.\n",
        "import kagglehub\n",
        "khwaishsaxena_lung_cancer_dataset_path = kagglehub.dataset_download('khwaishsaxena/lung-cancer-dataset')\n",
        "\n",
        "print('Data source import complete.')\n"
      ],
      "metadata": {
        "id": "-Ef0BuBmqmGQ"
      },
      "cell_type": "code",
      "outputs": [],
      "execution_count": null
    },
    {
      "cell_type": "markdown",
      "source": [
        "# 1.0 About Author\n",
        "- Project: Lung Cancer Dataset\n",
        "- Author: Zulqarnain Haider\n",
        "- Code Submission Date: 15-07-2025\n",
        "- Author's Contact Info:\\\n",
        "[Email](nainhaider989@gmail.com)\\\n",
        "[kaggle](https://www.kaggle.com/zulqarnain11)\n"
      ],
      "metadata": {
        "id": "9_rw7B6qq4Lj"
      }
    },
    {
      "cell_type": "markdown",
      "source": [
        "# 2.0 About Data\n",
        "-Data: Lung Cancer Dataset\n",
        "- Data Size: : 93.38 MB\n",
        "-Rows and Columns: 890,000 rows × 17 columns\n",
        "- Data Age: Collected between June 2, 2014 to May 30, 2024\n",
        "- **Dataset:** 🔗 [*link*](https://www.kaggle.com/datasets/khwaishsaxena/lung-cancer-dataset/data)\n",
        "## 2.1 Task:\n",
        "We aim to perform Exploratory Data Analysis (EDA) to uncover underlying patterns and insights from the dataset. The EDA will help us identify:\n",
        "\n",
        "- Data distribution and trends\n",
        "\n",
        "- Missing or inconsistent data\n",
        "\n",
        "- Relationships among features\n",
        "\n",
        "- Potential outliers or anomalies\n",
        "\n",
        "This EDA will form the foundation for subsequent data wrangling, cleaning, and preprocessing, which are essential for any modeling or predictive analysis.\n",
        "\n",
        "## 2.2 Objectives:\n",
        "The key objectives of this analysis are to:\n",
        "\n",
        "- Investigate factors contributing to lung cancer mortality and survival\n",
        "\n",
        "- Explore demographic and clinical features such as age, gender, BMI, smoking status, and comorbidities\n",
        "\n",
        "- Determine patterns in treatment types, cancer stages, and survival outcomes\n",
        "\n",
        "- Offer insights that can assist healthcare researchers, developers, and policymakers in better understanding patient dynamics and risks\n",
        "\n",
        "- Prepare a clean, normalized dataset suitable for further machine learning applications\n",
        "\n",
        "\n",
        "\n",
        "## 2.3 Kernel Version Used:\n",
        "- Python  3.11.13"
      ],
      "metadata": {
        "id": "h_v3Ok1hrWrW"
      }
    },
    {
      "cell_type": "markdown",
      "source": [
        "# Importing necessary libraries"
      ],
      "metadata": {
        "id": "r1ZJUCIZtRWX"
      }
    },
    {
      "cell_type": "code",
      "source": [
        "import pandas as pd\n",
        "import numpy as np\n",
        "import seaborn as sns\n",
        "import matplotlib.pyplot as plt\n",
        "%matplotlib inline\n",
        "import warnings\n",
        "warnings.filterwarnings('ignore')"
      ],
      "metadata": {
        "id": "dj10R_Y8UWce"
      },
      "outputs": [],
      "execution_count": null
    },
    {
      "cell_type": "markdown",
      "source": [
        "# loading the dataset"
      ],
      "metadata": {
        "id": "whWjkjKmtWPk"
      }
    },
    {
      "cell_type": "code",
      "source": [
        "df=pd.read_csv('/kaggle/input/lung-cancer-dataset')"
      ],
      "metadata": {
        "id": "fg4hqjHGU2oc"
      },
      "outputs": [],
      "execution_count": null
    },
    {
      "cell_type": "markdown",
      "source": [
        "# Exploring  and Preprocessing the Dataset"
      ],
      "metadata": {
        "id": "ZxXxiLSotbjq"
      }
    },
    {
      "cell_type": "code",
      "source": [
        "df.head()"
      ],
      "metadata": {
        "id": "nJQPevWbU8Og"
      },
      "outputs": [],
      "execution_count": null
    },
    {
      "cell_type": "code",
      "source": [
        "df.shape  # shape  of dataset"
      ],
      "metadata": {
        "id": "AuKJr1p5W4sv"
      },
      "outputs": [],
      "execution_count": null
    },
    {
      "cell_type": "code",
      "source": [
        "df.describe()"
      ],
      "metadata": {
        "id": "gpKtlCwtW51Z"
      },
      "outputs": [],
      "execution_count": null
    },
    {
      "cell_type": "code",
      "source": [
        "#converting  survived dataset into bool Dtype\n",
        "df.survived=df.survived.astype(bool)\n",
        "df.survived=df.survived.apply(lambda x: 1 if x == True else 0)\n"
      ],
      "metadata": {
        "id": "Y7wq9df2alPf"
      },
      "outputs": [],
      "execution_count": null
    },
    {
      "cell_type": "code",
      "source": [
        "df.info()"
      ],
      "metadata": {
        "id": "1408P1W0auZo"
      },
      "outputs": [],
      "execution_count": null
    },
    {
      "cell_type": "code",
      "source": [
        "df.survived.unique()"
      ],
      "metadata": {
        "id": "h1SIgaInayxb"
      },
      "outputs": [],
      "execution_count": null
    },
    {
      "cell_type": "code",
      "source": [
        "#checking null values in each column\n",
        "df.isnull().sum()"
      ],
      "metadata": {
        "id": "D9O7bf-RVL-G"
      },
      "outputs": [],
      "execution_count": null
    },
    {
      "cell_type": "code",
      "source": [
        "# plot heatmap graph for further clearity\n",
        "sns.heatmap(df.isnull())"
      ],
      "metadata": {
        "id": "sWdVjyJTVRT5"
      },
      "outputs": [],
      "execution_count": null
    },
    {
      "cell_type": "code",
      "source": [
        "#let  fix the null values  as i have noticed  there is one same row for all null values so its better to remove that\n",
        "df.dropna(inplace=True)"
      ],
      "metadata": {
        "id": "s_0JRGLcWitq"
      },
      "outputs": [],
      "execution_count": null
    },
    {
      "cell_type": "code",
      "source": [
        "df.isnull().sum()"
      ],
      "metadata": {
        "id": "1AG-k83HWv4k"
      },
      "outputs": [],
      "execution_count": null
    },
    {
      "cell_type": "code",
      "source": [
        "df.shape"
      ],
      "metadata": {
        "id": "-Rdot5RDXFTa"
      },
      "outputs": [],
      "execution_count": null
    },
    {
      "cell_type": "code",
      "source": [
        "df.age.unique() # as the age column is integer it is better convert into int and also do bining to get clear insights"
      ],
      "metadata": {
        "id": "-cWH2zluXHCQ"
      },
      "outputs": [],
      "execution_count": null
    },
    {
      "cell_type": "code",
      "source": [
        "df.age=df.age.astype('int')\n"
      ],
      "metadata": {
        "id": "6WhzGPbPXWmX"
      },
      "outputs": [],
      "execution_count": null
    },
    {
      "cell_type": "code",
      "source": [
        "#now lets do binning\n",
        "bins=[0, 10, 20, 35, 50, 65, 80, 120]\n",
        "labels=['Child', 'Teenager', 'Young Adult', 'Adult', 'Middle Aged', 'Senior', 'Elderly']\n",
        "df[\"age_group\"]=pd.cut(df[\"age\"], bins=bins, labels=labels)"
      ],
      "metadata": {
        "id": "PGwMjPfvXfLL"
      },
      "outputs": [],
      "execution_count": null
    },
    {
      "cell_type": "markdown",
      "source": [
        "# Which Age Group Has the Most Lung Cancer Patients?"
      ],
      "metadata": {
        "id": "wbMaUTzTmWV4"
      }
    },
    {
      "cell_type": "code",
      "source": [
        "# Total patients per age group\n",
        "total_patients = df['age_group'].value_counts().sort_index()\n",
        "\n",
        "# Died patients (survived == 0)\n",
        "died_patients = df[df['survived'] == 0]['age_group'].value_counts().sort_index()\n",
        "\n",
        "# Survived patients (survived == 1)\n",
        "survived_patients = df[df['survived'] == 1]['age_group'].value_counts().sort_index()\n",
        "\n",
        "for age_group in total_patients.index:\n",
        "    total = total_patients.get(age_group, 0)\n",
        "    died = died_patients.get(age_group, 0)\n",
        "    survived = survived_patients.get(age_group, 0)\n",
        "    print(f\"{age_group}: Total = {total}, Died = {died}, Survived = {survived}\")\n",
        "\n"
      ],
      "metadata": {
        "id": "qwL0zekGX2-p"
      },
      "outputs": [],
      "execution_count": null
    },
    {
      "cell_type": "markdown",
      "source": [
        "---\n",
        "# Observation\n",
        "- The Middle Aged (50–65) group had the highest number of patients and deaths:\n",
        "469,405 total, with 78,387 deaths and 391,018 survived.\n",
        "- The Adult (35–50) group followed with\n",
        "267,253 total, 44,848 deaths, and 222,405 survived.\n",
        "- The Senior (65–80) group had\n",
        "125,764 total, 20,955 deaths, and 104,809 survived.\n",
        "\n",
        "---"
      ],
      "metadata": {
        "id": "fC4U2IveYMBu"
      }
    },
    {
      "cell_type": "code",
      "source": [
        "# percentage of died per age group\n",
        "died_percentage = (died_patients / total_patients) *100\n",
        "print(died_percentage)"
      ],
      "metadata": {
        "id": "dKkSFoPaevds"
      },
      "outputs": [],
      "execution_count": null
    },
    {
      "cell_type": "markdown",
      "source": [
        "# Is There Any Relationship Between Cancer Stage and Deaths?"
      ],
      "metadata": {
        "id": "BP_xfobpmgjM"
      }
    },
    {
      "cell_type": "code",
      "source": [
        "df.columns# Correct filtering: survived == 0\n",
        "died_df = df[df['survived'] == 0]\n",
        "\n",
        "# Count deaths per cancer stage\n",
        "died_by_stage = died_df['cancer_stage'].value_counts().sort_values(ascending=False)\n",
        "\n",
        "# Print result\n",
        "print(died_by_stage)\n"
      ],
      "metadata": {
        "id": "A4BcP501hlhW"
      },
      "outputs": [],
      "execution_count": null
    },
    {
      "cell_type": "markdown",
      "source": [
        "---\n",
        "# Observation – Deaths by Cancer Stage\n",
        "- Stage IV: 37,327 deaths\n",
        "-Stage III: 37,326 deaths\n",
        "- Stage I: 37,260 deaths\n",
        "- Stage II: 36,907 deaths\n",
        "#### This suggests that cancer stage may not be strongly correlated with mortality in this dataset, or it may indicate imbalanced class distributions or data limitations.\n",
        "---\n",
        "\n"
      ],
      "metadata": {
        "id": "rO7uIys5iBDX"
      }
    },
    {
      "cell_type": "markdown",
      "source": [
        "# which country people died more ?"
      ],
      "metadata": {
        "id": "Cfwky2Yriopv"
      }
    },
    {
      "cell_type": "code",
      "source": [
        "died_df = df[df['survived'] == 0]\n",
        "\n",
        "# Count deaths per cancer stage\n",
        "died_by_country = died_df['country'].value_counts().sort_values(ascending=False)\n",
        "\n",
        "# Print result of to the 10 countries\n",
        "print(died_by_country.head(10))\n",
        "#"
      ],
      "metadata": {
        "id": "4cpp0rUji1zv"
      },
      "outputs": [],
      "execution_count": null
    },
    {
      "cell_type": "markdown",
      "source": [
        "---\n",
        " # Observation – Patients by Country\n",
        " - Ireland has the highest number of lung cancer patients in the dataset (5,643), followed closely by Croatia (5,611) and Malta (5,577).\n",
        " - The distribution across countries is fairly uniform, with only minor differences (all between ~5,400 and ~5,600 patients).\n",
        " - This suggests that the dataset may be evenly sampled across European countries, possibly for balanced analysis.\n",
        " ---"
      ],
      "metadata": {
        "id": "olKwm6DijOyB"
      }
    },
    {
      "cell_type": "markdown",
      "source": [
        "#  Does Smoking Status Affect Mortality?\n"
      ],
      "metadata": {
        "id": "QGeivonpj_6s"
      }
    },
    {
      "cell_type": "code",
      "source": [
        "\n",
        "died_df['smoking_status'].value_counts().sort_values(ascending=False)"
      ],
      "metadata": {
        "id": "W3T0V7SFkCQZ"
      },
      "outputs": [],
      "execution_count": null
    },
    {
      "cell_type": "markdown",
      "source": [
        "---\n",
        "#  Observation – Deaths by Smoking Status\n",
        "- The number of deaths is quite similar across all smoking status categories.\n",
        "- Passive Smokers had the highest number of deaths (37,499),\n",
        "followed by Never Smoked (37,223), Former Smoker (37,054),\n",
        "and Current Smoker (37,044).\n",
        "---"
      ],
      "metadata": {
        "id": "VJVkJjNKktYf"
      }
    },
    {
      "cell_type": "markdown",
      "source": [
        "#  Does Family History Impact Lung Cancer Mortality?"
      ],
      "metadata": {
        "id": "70z18kRRl8NM"
      }
    },
    {
      "cell_type": "code",
      "source": [
        "\n",
        "df[df['survived'] == 0]['family_history'].value_counts()\n"
      ],
      "metadata": {
        "id": "OY0HQClOlHnf"
      },
      "outputs": [],
      "execution_count": null
    },
    {
      "cell_type": "markdown",
      "source": [
        "---\n",
        "#  Observation – Does Family History Impact Lung Cancer Mortality?\n",
        " - Out of all patients who died,\n",
        "74,498 had a family history of cancer,\n",
        "while 74,322 had no family history.\n",
        "- The death counts are almost equal, suggesting that family history may not have a significant impact on lung cancer mortality in this dataset.\n"
      ],
      "metadata": {
        "id": "FHQcXzldnCiM"
      }
    },
    {
      "cell_type": "code",
      "source": [
        "sns.heatmap(df.corr())"
      ],
      "metadata": {
        "id": "-8dftre6nMvL"
      },
      "outputs": [],
      "execution_count": null
    },
    {
      "cell_type": "code",
      "source": [
        "df.columns"
      ],
      "metadata": {
        "id": "aBUl00Ijnmfs"
      },
      "outputs": [],
      "execution_count": null
    },
    {
      "cell_type": "code",
      "source": [
        "df[df.survived==0][\"gender\"].value_counts().sort_values(ascending=False)"
      ],
      "metadata": {
        "id": "WsaOK9BinR-0"
      },
      "outputs": [],
      "execution_count": null
    },
    {
      "cell_type": "markdown",
      "source": [
        "# Death Rate by BMI Category – Is Weight a Risk Factor?"
      ],
      "metadata": {
        "id": "tmkVJalPpfUA"
      }
    },
    {
      "cell_type": "code",
      "source": [
        "# Define BMI groups\n",
        "bins = [0, 18.5, 24.9, 29.9, df['bmi'].max()]\n",
        "labels = ['Underweight', 'Normal', 'Overweight', 'Obese']\n",
        "\n",
        "# Create a new column for BMI category\n",
        "df['bmi_group'] = pd.cut(df['bmi'], bins=bins, labels=labels)\n",
        "\n",
        "# Count total patients in each BMI group\n",
        "total_by_bmi = df['bmi_group'].value_counts().sort_index()\n",
        "\n",
        "# Count died patients in each BMI group\n",
        "died_by_bmi = df[df['survived'] == 0]['bmi_group'].value_counts().sort_index()\n",
        "\n",
        "# Calculate death rate (%)\n",
        "death_rate_bmi = (died_by_bmi / total_by_bmi) * 100\n",
        "death_rate_bmi = death_rate_bmi.round(2)\n",
        "\n",
        "# Display results\n",
        "death_rate_bmi\n"
      ],
      "metadata": {
        "id": "U7kBxQMRpO_M"
      },
      "outputs": [],
      "execution_count": null
    },
    {
      "cell_type": "markdown",
      "source": [
        "# heatmap graph to check correaltion"
      ],
      "metadata": {
        "id": "EC2HGBdmpqVr"
      }
    },
    {
      "cell_type": "code",
      "source": [
        "# Select only numeric columns\n",
        "numeric_df = df.select_dtypes(include='number')\n",
        "\n",
        "# Plot correlation heatmap\n",
        "plt.figure(figsize=(10, 8))\n",
        "sns.heatmap(numeric_df.corr(), annot=True, cmap='coolwarm', fmt=\".2f\")\n",
        "plt.title(\"Correlation Heatmap (Numeric Features Only)\")\n",
        "plt.show()"
      ],
      "metadata": {
        "id": "7L4fwL6hnzWe"
      },
      "outputs": [],
      "execution_count": null
    },
    {
      "cell_type": "markdown",
      "source": [
        "# Observation\n",
        "The correlation heatmap shows that the survived column has no strong correlation with any of the numeric features (age, bmi, cholesterol_level, hypertension, etc.)."
      ],
      "metadata": {
        "id": "1vA-2mqfp8YX"
      }
    },
    {
      "cell_type": "markdown",
      "source": [
        "# Summary Observation\n",
        "In this Exploratory Data Analysis (EDA) of the lung cancer dataset:\n",
        "\n",
        "- Most patients fall in the Middle Aged (50–65) category, which also shows the highest number of deaths.\n",
        "\n",
        "- Cancer stage, smoking status, family history, and BMI show minimal variation in death rates, suggesting that none of these features alone strongly influence survival outcomes.\n",
        "\n",
        "- The correlation heatmap reveals that the survived variable has no strong linear correlation with any numeric feature.\n",
        "\n",
        "- Country-wise distribution of patients is fairly uniform, indicating a balanced dataset across European regions.\n",
        "\n",
        "- 🔍 Key Insight: The dataset appears to be well-balanced, and no single factor stands out as a clear predictor of survival. This suggests that survival may depend on complex interactions between multiple features rather than individual variables.\n"
      ],
      "metadata": {
        "id": "r7eEWcrPo4aV"
      }
    }
  ]
}