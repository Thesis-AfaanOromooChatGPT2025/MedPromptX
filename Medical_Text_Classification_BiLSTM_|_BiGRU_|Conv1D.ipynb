{
  "metadata": {
    "kernelspec": {
      "language": "python",
      "display_name": "Python 3",
      "name": "python3"
    },
    "language_info": {
      "name": "python",
      "version": "3.10.14",
      "mimetype": "text/x-python",
      "codemirror_mode": {
        "name": "ipython",
        "version": 3
      },
      "pygments_lexer": "ipython3",
      "nbconvert_exporter": "python",
      "file_extension": ".py"
    },
    "kaggle": {
      "accelerator": "gpu",
      "dataSources": [
        {
          "sourceId": 4033428,
          "sourceType": "datasetVersion",
          "datasetId": 2389764
        }
      ],
      "dockerImageVersionId": 30787,
      "isInternetEnabled": true,
      "language": "python",
      "sourceType": "notebook",
      "isGpuEnabled": true
    },
    "colab": {
      "name": "Medical Text Classification BiLSTM | BiGRU |Conv1D",
      "provenance": [],
      "include_colab_link": true
    }
  },
  "nbformat_minor": 0,
  "nbformat": 4,
  "cells": [
    {
      "cell_type": "markdown",
      "metadata": {
        "id": "view-in-github",
        "colab_type": "text"
      },
      "source": [
        "<a href=\"https://colab.research.google.com/github/Thesis-AfaanOromooChatGPT2025/MedPromptX/blob/main/Medical_Text_Classification_BiLSTM_%7C_BiGRU_%7CConv1D.ipynb\" target=\"_parent\"><img src=\"https://colab.research.google.com/assets/colab-badge.svg\" alt=\"Open In Colab\"/></a>"
      ]
    },
    {
      "source": [
        "# IMPORTANT: RUN THIS CELL IN ORDER TO IMPORT YOUR KAGGLE DATA SOURCES,\n",
        "# THEN FEEL FREE TO DELETE THIS CELL.\n",
        "# NOTE: THIS NOTEBOOK ENVIRONMENT DIFFERS FROM KAGGLE'S PYTHON\n",
        "# ENVIRONMENT SO THERE MAY BE MISSING LIBRARIES USED BY YOUR\n",
        "# NOTEBOOK.\n",
        "import kagglehub\n",
        "falgunipatel19_biomedical_text_publication_classification_path = kagglehub.dataset_download('falgunipatel19/biomedical-text-publication-classification')\n",
        "\n",
        "print('Data source import complete.')\n"
      ],
      "metadata": {
        "id": "NpjpfCuBiU-Z"
      },
      "cell_type": "code",
      "outputs": [],
      "execution_count": null
    },
    {
      "cell_type": "markdown",
      "source": [
        "# Data Overview\n",
        "\n",
        "For Biomedical text document classification, abstract and full papers(whose length less than or equal to 6 pages) available and used. This dataset focused on long research paper whose page size more than 6 pages.\n",
        "- Dataset includes cancer documents to be classified into 3 categories: 'Thyroid_Cancer', 'Colon_Cancer', 'Lung_Cancer'.\n",
        "- Total publications=7569. it has 3 class labels in dataset.\n",
        "- number of samples in each categories:\n",
        "    - colon cancer=2579,\n",
        "    - lung cancer=2180,\n",
        "    - thyroid cancer=2810"
      ],
      "metadata": {
        "execution": {
          "iopub.status.busy": "2024-10-10T20:14:17.069003Z",
          "iopub.execute_input": "2024-10-10T20:14:17.069294Z",
          "iopub.status.idle": "2024-10-10T20:14:17.081872Z",
          "shell.execute_reply.started": "2024-10-10T20:14:17.06926Z",
          "shell.execute_reply": "2024-10-10T20:14:17.080695Z"
        },
        "id": "46rj1ffwiU-a"
      }
    },
    {
      "cell_type": "markdown",
      "source": [
        "# Import Libraries"
      ],
      "metadata": {
        "id": "12_PZrziiU-b"
      }
    },
    {
      "cell_type": "code",
      "source": [
        "import pandas as pd\n",
        "import numpy as np\n",
        "from numpy import random\n",
        "import matplotlib.pyplot as plt\n",
        "import plotly.express as px\n",
        "import seaborn as sns\n",
        "import os\n",
        "import time\n",
        "import re\n",
        "\n",
        "from mlxtend.plotting import plot_confusion_matrix\n",
        "from sklearn.metrics import confusion_matrix, classification_report\n",
        "from sklearn.feature_extraction.text import TfidfVectorizer, CountVectorizer\n",
        "from sklearn.model_selection import train_test_split\n",
        "from sklearn.preprocessing import LabelEncoder\n",
        "\n",
        "import tensorflow as tf\n",
        "from tensorflow.keras.utils import to_categorical\n",
        "from tensorflow.keras.models import Model, Sequential, load_model\n",
        "from tensorflow.keras.layers import Layer\n",
        "from tensorflow.keras.layers import (Dense, Flatten, SimpleRNN, Conv1D,\n",
        "                                     Bidirectional, GRU, LSTM,\n",
        "                                     BatchNormalization, Dropout, Input, MaxPooling1D,\n",
        "                                     Embedding, TextVectorization)\n",
        "from tensorflow.keras.losses import (CategoricalCrossentropy,\n",
        "                                     SparseCategoricalCrossentropy)\n",
        "from tensorflow.keras.metrics import Accuracy\n",
        "from tensorflow.keras.optimizers import Adam\n",
        "from tensorflow.keras.utils import plot_model\n",
        "from tensorflow.keras.callbacks import EarlyStopping, ReduceLROnPlateau, ModelCheckpoint\n",
        "\n",
        "from tensorflow.keras.preprocessing.text import Tokenizer\n",
        "from tensorflow.keras.preprocessing.sequence import pad_sequences\n",
        "from gensim.models import Word2Vec\n",
        "import nltk\n",
        "from nltk.corpus import stopwords\n",
        "from nltk.tokenize import word_tokenize\n",
        "from wordcloud import WordCloud"
      ],
      "metadata": {
        "_uuid": "8f2839f25d086af736a60e9eeb907d3b93b6e0e5",
        "_cell_guid": "b1076dfc-b9ad-4769-8c92-a6c4dae69d19",
        "execution": {
          "iopub.status.busy": "2024-10-10T20:26:07.056062Z",
          "iopub.execute_input": "2024-10-10T20:26:07.05771Z",
          "iopub.status.idle": "2024-10-10T20:26:07.068148Z",
          "shell.execute_reply.started": "2024-10-10T20:26:07.057652Z",
          "shell.execute_reply": "2024-10-10T20:26:07.067378Z"
        },
        "trusted": true,
        "id": "N_HJBMf4iU-b"
      },
      "execution_count": null,
      "outputs": []
    },
    {
      "cell_type": "markdown",
      "source": [
        "# Functions"
      ],
      "metadata": {
        "id": "_y2ivEGeiU-c"
      }
    },
    {
      "cell_type": "code",
      "source": [
        "import warnings\n",
        "warnings.filterwarnings('ignore')\n",
        "\n",
        "plt.style.use('fivethirtyeight')"
      ],
      "metadata": {
        "execution": {
          "iopub.status.busy": "2024-10-10T20:26:07.070089Z",
          "iopub.execute_input": "2024-10-10T20:26:07.070479Z",
          "iopub.status.idle": "2024-10-10T20:26:07.081844Z",
          "shell.execute_reply.started": "2024-10-10T20:26:07.070434Z",
          "shell.execute_reply": "2024-10-10T20:26:07.080958Z"
        },
        "trusted": true,
        "id": "FiWNHc2jiU-c"
      },
      "execution_count": null,
      "outputs": []
    },
    {
      "cell_type": "code",
      "source": [
        "# Function to plot loss, accuracy and best epoch\n",
        "\n",
        "def learning_curves_plot(tr_data, start_epoch):\n",
        "    # Plot the training and validation data\n",
        "    tacc = tr_data.history['accuracy']\n",
        "    tloss = tr_data.history['loss']\n",
        "    vacc = tr_data.history['val_accuracy']\n",
        "    vloss = tr_data.history['val_loss']\n",
        "\n",
        "    Epoch_count = len(tacc) + start_epoch\n",
        "    Epochs = []\n",
        "    for i in range(start_epoch, Epoch_count):\n",
        "        Epochs.append(i + 1)\n",
        "\n",
        "    index_loss = np.argmin(vloss)  # this is the epoch with the lowest validation loss\n",
        "    val_lowest = vloss[index_loss]\n",
        "    index_acc = np.argmax(vacc)\n",
        "    acc_highest = vacc[index_acc]\n",
        "\n",
        "    plt.style.use('fivethirtyeight')\n",
        "\n",
        "    sc_label = 'best epoch= ' + str(index_loss + 1 + start_epoch)\n",
        "    vc_label = 'best epoch= ' + str(index_acc + 1 + start_epoch)\n",
        "\n",
        "    fig, axes = plt.subplots(nrows=1, ncols=2, figsize=(20, 8))\n",
        "\n",
        "    axes[0].plot(Epochs, tloss, 'r', label='Training loss')\n",
        "    axes[0].plot(Epochs, vloss, 'g', label='Validation loss')\n",
        "    axes[0].scatter(index_loss + 1 + start_epoch, val_lowest, s=150, c='blue', label=sc_label)\n",
        "    axes[0].set_title('Training and Validation Loss')\n",
        "    axes[0].set_xlabel('Epochs')\n",
        "    axes[0].set_ylabel('Loss')\n",
        "    axes[0].legend()\n",
        "\n",
        "    axes[1].plot(Epochs, tacc, 'r', label='Training Accuracy')\n",
        "    axes[1].plot(Epochs, vacc, 'g', label='Validation Accuracy')\n",
        "    axes[1].scatter(index_acc + 1 + start_epoch, acc_highest, s=150, c='blue', label=vc_label)\n",
        "    axes[1].set_title('Training and Validation Accuracy')\n",
        "    axes[1].set_xlabel('Epochs')\n",
        "    axes[1].set_ylabel('Accuracy')\n",
        "    axes[1].legend()\n",
        "\n",
        "    plt.tight_layout()\n",
        "    plt.show()"
      ],
      "metadata": {
        "execution": {
          "iopub.status.busy": "2024-10-10T20:26:07.082931Z",
          "iopub.execute_input": "2024-10-10T20:26:07.08321Z",
          "iopub.status.idle": "2024-10-10T20:26:07.095755Z",
          "shell.execute_reply.started": "2024-10-10T20:26:07.08318Z",
          "shell.execute_reply": "2024-10-10T20:26:07.094804Z"
        },
        "trusted": true,
        "id": "YEkb1ss6iU-c"
      },
      "execution_count": null,
      "outputs": []
    },
    {
      "cell_type": "markdown",
      "source": [
        "# Data Exploration"
      ],
      "metadata": {
        "id": "QkySTt0oiU-c"
      }
    },
    {
      "cell_type": "code",
      "source": [
        "data = pd.read_csv(\"/kaggle/input/biomedical-text-publication-classification/alldata_1_for_kaggle.csv\"\n",
        "                   , encoding=\"latin1\")"
      ],
      "metadata": {
        "execution": {
          "iopub.status.busy": "2024-10-10T20:26:07.097809Z",
          "iopub.execute_input": "2024-10-10T20:26:07.098132Z",
          "iopub.status.idle": "2024-10-10T20:26:10.556422Z",
          "shell.execute_reply.started": "2024-10-10T20:26:07.098101Z",
          "shell.execute_reply": "2024-10-10T20:26:10.555531Z"
        },
        "trusted": true,
        "id": "i6_RBB23iU-c"
      },
      "execution_count": null,
      "outputs": []
    },
    {
      "cell_type": "code",
      "source": [
        "data.head()"
      ],
      "metadata": {
        "execution": {
          "iopub.status.busy": "2024-10-10T20:26:10.557665Z",
          "iopub.execute_input": "2024-10-10T20:26:10.558124Z",
          "iopub.status.idle": "2024-10-10T20:26:10.576092Z",
          "shell.execute_reply.started": "2024-10-10T20:26:10.55808Z",
          "shell.execute_reply": "2024-10-10T20:26:10.575164Z"
        },
        "trusted": true,
        "id": "NrVSCdHeiU-d"
      },
      "execution_count": null,
      "outputs": []
    },
    {
      "cell_type": "code",
      "source": [
        "data.isna().sum()"
      ],
      "metadata": {
        "execution": {
          "iopub.status.busy": "2024-10-10T20:26:10.577145Z",
          "iopub.execute_input": "2024-10-10T20:26:10.577447Z",
          "iopub.status.idle": "2024-10-10T20:26:10.587227Z",
          "shell.execute_reply.started": "2024-10-10T20:26:10.577414Z",
          "shell.execute_reply": "2024-10-10T20:26:10.586402Z"
        },
        "trusted": true,
        "id": "7Lr_81OLiU-d"
      },
      "execution_count": null,
      "outputs": []
    },
    {
      "cell_type": "code",
      "source": [
        "data.duplicated().sum()"
      ],
      "metadata": {
        "execution": {
          "iopub.status.busy": "2024-10-10T20:26:10.588283Z",
          "iopub.execute_input": "2024-10-10T20:26:10.588683Z",
          "iopub.status.idle": "2024-10-10T20:26:10.846416Z",
          "shell.execute_reply.started": "2024-10-10T20:26:10.58865Z",
          "shell.execute_reply": "2024-10-10T20:26:10.845366Z"
        },
        "trusted": true,
        "id": "oqjHobW7iU-d"
      },
      "execution_count": null,
      "outputs": []
    },
    {
      "cell_type": "code",
      "source": [
        "data.columns"
      ],
      "metadata": {
        "execution": {
          "iopub.status.busy": "2024-10-10T20:26:10.850169Z",
          "iopub.execute_input": "2024-10-10T20:26:10.850519Z",
          "iopub.status.idle": "2024-10-10T20:26:10.856597Z",
          "shell.execute_reply.started": "2024-10-10T20:26:10.850483Z",
          "shell.execute_reply": "2024-10-10T20:26:10.855699Z"
        },
        "trusted": true,
        "id": "5FGlEwaWiU-d"
      },
      "execution_count": null,
      "outputs": []
    },
    {
      "cell_type": "code",
      "source": [
        "data = data.drop('Unnamed: 0', axis =1)"
      ],
      "metadata": {
        "execution": {
          "iopub.status.busy": "2024-10-10T20:26:10.857694Z",
          "iopub.execute_input": "2024-10-10T20:26:10.857989Z",
          "iopub.status.idle": "2024-10-10T20:26:10.869136Z",
          "shell.execute_reply.started": "2024-10-10T20:26:10.857956Z",
          "shell.execute_reply": "2024-10-10T20:26:10.868155Z"
        },
        "trusted": true,
        "id": "kBHE-hs8iU-d"
      },
      "execution_count": null,
      "outputs": []
    },
    {
      "cell_type": "code",
      "source": [
        "data.info()"
      ],
      "metadata": {
        "execution": {
          "iopub.status.busy": "2024-10-10T20:26:10.870434Z",
          "iopub.execute_input": "2024-10-10T20:26:10.871657Z",
          "iopub.status.idle": "2024-10-10T20:26:10.89078Z",
          "shell.execute_reply.started": "2024-10-10T20:26:10.871609Z",
          "shell.execute_reply": "2024-10-10T20:26:10.889809Z"
        },
        "trusted": true,
        "id": "Qx9Fk02RiU-e"
      },
      "execution_count": null,
      "outputs": []
    },
    {
      "cell_type": "code",
      "source": [
        "data = data.rename(columns={\"0\": \"Target\", \"a\":\"Text\"})"
      ],
      "metadata": {
        "execution": {
          "iopub.status.busy": "2024-10-10T20:26:10.892023Z",
          "iopub.execute_input": "2024-10-10T20:26:10.892808Z",
          "iopub.status.idle": "2024-10-10T20:26:10.900531Z",
          "shell.execute_reply.started": "2024-10-10T20:26:10.89276Z",
          "shell.execute_reply": "2024-10-10T20:26:10.899645Z"
        },
        "trusted": true,
        "id": "5lWWST9QiU-e"
      },
      "execution_count": null,
      "outputs": []
    },
    {
      "cell_type": "code",
      "source": [
        "data[\"Text\"].iloc[0]"
      ],
      "metadata": {
        "execution": {
          "iopub.status.busy": "2024-10-10T20:26:10.90176Z",
          "iopub.execute_input": "2024-10-10T20:26:10.902388Z",
          "iopub.status.idle": "2024-10-10T20:26:10.913594Z",
          "shell.execute_reply.started": "2024-10-10T20:26:10.902343Z",
          "shell.execute_reply": "2024-10-10T20:26:10.912733Z"
        },
        "trusted": true,
        "id": "I3uyw2fJiU-e"
      },
      "execution_count": null,
      "outputs": []
    },
    {
      "cell_type": "code",
      "source": [
        "data[\"Target\"].value_counts()"
      ],
      "metadata": {
        "execution": {
          "iopub.status.busy": "2024-10-10T20:26:10.914657Z",
          "iopub.execute_input": "2024-10-10T20:26:10.914944Z",
          "iopub.status.idle": "2024-10-10T20:26:10.928717Z",
          "shell.execute_reply.started": "2024-10-10T20:26:10.914913Z",
          "shell.execute_reply": "2024-10-10T20:26:10.927809Z"
        },
        "trusted": true,
        "id": "SKJl65zciU-e"
      },
      "execution_count": null,
      "outputs": []
    },
    {
      "cell_type": "code",
      "source": [
        "counts = data[\"Target\"].value_counts()\n",
        "\n",
        "fig, axs = plt.subplots(1, 2, figsize=(14, 6))\n",
        "\n",
        "ax1 = sns.barplot(x=counts.index, y=counts.values, ax=axs[0])\n",
        "\n",
        "for i, p in enumerate(ax1.patches):\n",
        "    ax1.annotate(f'{counts.iloc[i]}',\n",
        "                 (p.get_x() + p.get_width() / 2., p.get_height()),\n",
        "                 ha='center', va='bottom',\n",
        "                 fontsize=10)\n",
        "\n",
        "axs[0].set_title('Number of Samples per Class')\n",
        "axs[0].set_xlabel('Classes')\n",
        "axs[0].set_ylabel('Number of Samples')\n",
        "\n",
        "axs[1].pie(counts.values,\n",
        "           autopct=\"%.1f%%\",\n",
        "           labels=counts.index)\n",
        "axs[1].set_title('Distribution of Cancer Types')\n",
        "\n",
        "plt.tight_layout()\n",
        "plt.show()"
      ],
      "metadata": {
        "execution": {
          "iopub.status.busy": "2024-10-10T20:26:10.929965Z",
          "iopub.execute_input": "2024-10-10T20:26:10.93031Z",
          "iopub.status.idle": "2024-10-10T20:26:11.336086Z",
          "shell.execute_reply.started": "2024-10-10T20:26:10.930275Z",
          "shell.execute_reply": "2024-10-10T20:26:11.335161Z"
        },
        "trusted": true,
        "id": "-vxOJ-A6iU-e"
      },
      "execution_count": null,
      "outputs": []
    },
    {
      "cell_type": "code",
      "source": [
        "thyroid = data[data['Target'] == 'Thyroid_Cancer']['Text'].values\n",
        "thyroid_text = ' '.join(thyroid)\n",
        "\n",
        "plt.figure(figsize=(10, 8))\n",
        "wordcloud = WordCloud(width=800, height=400, background_color='white').generate(thyroid_text)\n",
        "plt.imshow(wordcloud, interpolation='bilinear')\n",
        "plt.title('Word Cloud for Thyroid Cancer')\n",
        "plt.axis('off')\n",
        "plt.show()"
      ],
      "metadata": {
        "execution": {
          "iopub.status.busy": "2024-10-10T20:26:11.337085Z",
          "iopub.execute_input": "2024-10-10T20:26:11.337393Z",
          "iopub.status.idle": "2024-10-10T20:26:51.487891Z",
          "shell.execute_reply.started": "2024-10-10T20:26:11.337351Z",
          "shell.execute_reply": "2024-10-10T20:26:51.486654Z"
        },
        "trusted": true,
        "id": "z8R-ZqESiU-e"
      },
      "execution_count": null,
      "outputs": []
    },
    {
      "cell_type": "code",
      "source": [
        "colon = data[data['Target'] == 'Colon_Cancer']['Text'].values\n",
        "colon_text = ' '.join(colon)\n",
        "\n",
        "plt.figure(figsize=(10, 8))\n",
        "wordcloud = WordCloud(width=800, height=400, background_color='white').generate(colon_text)\n",
        "plt.imshow(wordcloud, interpolation='bilinear')\n",
        "plt.title('Word Cloud for Colon Cancer')\n",
        "plt.axis('off')\n",
        "plt.show()"
      ],
      "metadata": {
        "execution": {
          "iopub.status.busy": "2024-10-10T20:26:51.48908Z",
          "iopub.execute_input": "2024-10-10T20:26:51.489416Z",
          "iopub.status.idle": "2024-10-10T20:27:28.924243Z",
          "shell.execute_reply.started": "2024-10-10T20:26:51.489378Z",
          "shell.execute_reply": "2024-10-10T20:27:28.923391Z"
        },
        "trusted": true,
        "id": "NcFM535JiU-e"
      },
      "execution_count": null,
      "outputs": []
    },
    {
      "cell_type": "code",
      "source": [
        "lung = data[data['Target'] == 'Lung_Cancer']['Text'].values\n",
        "lung_text = ' '.join(lung)\n",
        "\n",
        "plt.figure(figsize=(10, 8))\n",
        "wordcloud = WordCloud(width=800, height=400, background_color='white').generate(lung_text)\n",
        "plt.imshow(wordcloud, interpolation='bilinear')\n",
        "plt.title('Word Cloud for Lung Cancer')\n",
        "plt.axis('off')\n",
        "plt.show()"
      ],
      "metadata": {
        "execution": {
          "iopub.status.busy": "2024-10-10T20:27:28.925446Z",
          "iopub.execute_input": "2024-10-10T20:27:28.925754Z",
          "iopub.status.idle": "2024-10-10T20:27:43.297917Z",
          "shell.execute_reply.started": "2024-10-10T20:27:28.92572Z",
          "shell.execute_reply": "2024-10-10T20:27:43.296938Z"
        },
        "trusted": true,
        "id": "N67SqAxGiU-f"
      },
      "execution_count": null,
      "outputs": []
    },
    {
      "cell_type": "markdown",
      "source": [
        "# Data Preprocessing"
      ],
      "metadata": {
        "id": "g3Io8cYjiU-f"
      }
    },
    {
      "cell_type": "code",
      "source": [
        "vocab_size = 10000  # Size of the vocabulary\n",
        "embedding_dim = 128  # Dimension of the word embeddings\n",
        "max_length = 200  # Maximum length of the sequences"
      ],
      "metadata": {
        "execution": {
          "iopub.status.busy": "2024-10-10T20:27:43.299006Z",
          "iopub.execute_input": "2024-10-10T20:27:43.299291Z",
          "iopub.status.idle": "2024-10-10T20:27:43.303635Z",
          "shell.execute_reply.started": "2024-10-10T20:27:43.299253Z",
          "shell.execute_reply": "2024-10-10T20:27:43.302739Z"
        },
        "trusted": true,
        "id": "6iFhAbUciU-f"
      },
      "execution_count": null,
      "outputs": []
    },
    {
      "cell_type": "code",
      "source": [
        "text = data[\"Text\"].values\n",
        "labels = data[\"Target\"].values"
      ],
      "metadata": {
        "execution": {
          "iopub.status.busy": "2024-10-10T20:27:43.310688Z",
          "iopub.execute_input": "2024-10-10T20:27:43.311108Z",
          "iopub.status.idle": "2024-10-10T20:27:43.315426Z",
          "shell.execute_reply.started": "2024-10-10T20:27:43.311073Z",
          "shell.execute_reply": "2024-10-10T20:27:43.314523Z"
        },
        "trusted": true,
        "id": "Mn85SEM9iU-f"
      },
      "execution_count": null,
      "outputs": []
    },
    {
      "cell_type": "code",
      "source": [
        "tokenizer = Tokenizer(num_words=vocab_size)\n",
        "tokenizer.fit_on_texts(data[\"Text\"])\n",
        "\n",
        "sequences = tokenizer.texts_to_sequences(data[\"Text\"])\n",
        "\n",
        "padded_sequences = pad_sequences(sequences, maxlen=max_length)"
      ],
      "metadata": {
        "execution": {
          "iopub.status.busy": "2024-10-10T20:27:43.316451Z",
          "iopub.execute_input": "2024-10-10T20:27:43.31673Z",
          "iopub.status.idle": "2024-10-10T20:28:53.836819Z",
          "shell.execute_reply.started": "2024-10-10T20:27:43.316696Z",
          "shell.execute_reply": "2024-10-10T20:28:53.835951Z"
        },
        "trusted": true,
        "id": "gK4FSuE4iU-f"
      },
      "execution_count": null,
      "outputs": []
    },
    {
      "cell_type": "markdown",
      "source": [
        "# Data Split"
      ],
      "metadata": {
        "id": "pfHlIOJciU-f"
      }
    },
    {
      "cell_type": "code",
      "source": [
        "X_train, X_test, y_train, y_test = train_test_split(padded_sequences, labels, test_size=0.2,\n",
        "                                                    random_state=42, stratify=labels)\n",
        "\n",
        "X_train, X_valid, y_train, y_valid = train_test_split(X_train, y_train, test_size=0.25,\n",
        "                                                       random_state=42, stratify=y_train)\n",
        "\n",
        "print('Train Set Shape: ', X_train.shape)\n",
        "print('Validation Set Shape: ', X_valid.shape)\n",
        "print('Test Set Shape: ', X_test.shape)"
      ],
      "metadata": {
        "execution": {
          "iopub.status.busy": "2024-10-10T20:28:53.837912Z",
          "iopub.execute_input": "2024-10-10T20:28:53.838215Z",
          "iopub.status.idle": "2024-10-10T20:28:53.870589Z",
          "shell.execute_reply.started": "2024-10-10T20:28:53.838181Z",
          "shell.execute_reply": "2024-10-10T20:28:53.869717Z"
        },
        "trusted": true,
        "id": "HdANi1VpiU-g"
      },
      "execution_count": null,
      "outputs": []
    },
    {
      "cell_type": "code",
      "source": [
        "encoder = LabelEncoder()\n",
        "y_train = encoder.fit_transform(y_train)\n",
        "y_valid = encoder.transform(y_valid)\n",
        "y_test = encoder.transform(y_test)\n",
        "\n",
        "y_train = to_categorical(y_train, num_classes=3)\n",
        "y_valid = to_categorical(y_valid, num_classes=3)\n",
        "y_test = to_categorical(y_test, num_classes=3)"
      ],
      "metadata": {
        "execution": {
          "iopub.status.busy": "2024-10-10T20:28:53.87172Z",
          "iopub.execute_input": "2024-10-10T20:28:53.87237Z",
          "iopub.status.idle": "2024-10-10T20:28:53.880621Z",
          "shell.execute_reply.started": "2024-10-10T20:28:53.872307Z",
          "shell.execute_reply": "2024-10-10T20:28:53.879512Z"
        },
        "trusted": true,
        "id": "6tAhhzrPiU-g"
      },
      "execution_count": null,
      "outputs": []
    },
    {
      "cell_type": "markdown",
      "source": [
        "# Modeling"
      ],
      "metadata": {
        "id": "_9RhEenuiU-g"
      }
    },
    {
      "cell_type": "markdown",
      "source": [
        "## SimpleRNN"
      ],
      "metadata": {
        "id": "J7etjnEeiU-g"
      }
    },
    {
      "cell_type": "code",
      "source": [
        "rnn_model = Sequential()\n",
        "rnn_model.add(Input(shape=(max_length,)))\n",
        "rnn_model.add(Embedding(vocab_size, embedding_dim, input_length=max_length))\n",
        "rnn_model.add(SimpleRNN(128))\n",
        "rnn_model.add(Dense(3, activation='softmax'))"
      ],
      "metadata": {
        "execution": {
          "iopub.status.busy": "2024-10-10T20:28:53.881794Z",
          "iopub.execute_input": "2024-10-10T20:28:53.882069Z",
          "iopub.status.idle": "2024-10-10T20:28:55.110154Z",
          "shell.execute_reply.started": "2024-10-10T20:28:53.882038Z",
          "shell.execute_reply": "2024-10-10T20:28:55.109372Z"
        },
        "trusted": true,
        "id": "6uufELq8iU-g"
      },
      "execution_count": null,
      "outputs": []
    },
    {
      "cell_type": "code",
      "source": [
        "rnn_model.summary()"
      ],
      "metadata": {
        "execution": {
          "iopub.status.busy": "2024-10-10T20:28:55.111197Z",
          "iopub.execute_input": "2024-10-10T20:28:55.111514Z",
          "iopub.status.idle": "2024-10-10T20:28:55.130546Z",
          "shell.execute_reply.started": "2024-10-10T20:28:55.11148Z",
          "shell.execute_reply": "2024-10-10T20:28:55.129695Z"
        },
        "trusted": true,
        "id": "sSsTv7DMiU-g"
      },
      "execution_count": null,
      "outputs": []
    },
    {
      "cell_type": "code",
      "source": [
        "rnn_model.compile(loss=\"categorical_crossentropy\",\n",
        "              optimizer=\"adam\",\n",
        "              metrics=['accuracy'])"
      ],
      "metadata": {
        "execution": {
          "iopub.status.busy": "2024-10-10T20:28:55.131668Z",
          "iopub.execute_input": "2024-10-10T20:28:55.131949Z",
          "iopub.status.idle": "2024-10-10T20:28:55.14439Z",
          "shell.execute_reply.started": "2024-10-10T20:28:55.131917Z",
          "shell.execute_reply": "2024-10-10T20:28:55.143378Z"
        },
        "trusted": true,
        "id": "YqytKkD1iU-g"
      },
      "execution_count": null,
      "outputs": []
    },
    {
      "cell_type": "code",
      "source": [
        "early_stopping = EarlyStopping(monitor='val_loss',\n",
        "                               patience=6,\n",
        "                               restore_best_weights=True)\n",
        "\n",
        "reduce_lr = ReduceLROnPlateau(monitor='val_loss',\n",
        "                              factor=0.2,\n",
        "                              verbose=1,\n",
        "                              patience=2,\n",
        "                              min_lr=1e-6)\n",
        "\n",
        "callbacks = [early_stopping, reduce_lr]"
      ],
      "metadata": {
        "execution": {
          "iopub.status.busy": "2024-10-10T20:28:55.14565Z",
          "iopub.execute_input": "2024-10-10T20:28:55.145935Z",
          "iopub.status.idle": "2024-10-10T20:28:55.151019Z",
          "shell.execute_reply.started": "2024-10-10T20:28:55.145904Z",
          "shell.execute_reply": "2024-10-10T20:28:55.150101Z"
        },
        "trusted": true,
        "id": "Ot3CuubTiU-h"
      },
      "execution_count": null,
      "outputs": []
    },
    {
      "cell_type": "code",
      "source": [
        "rnn_history=rnn_model.fit(\n",
        "    X_train, y_train,\n",
        "    validation_data=(X_valid, y_valid),\n",
        "    epochs=15,\n",
        "    batch_size=32,\n",
        "    callbacks=callbacks)"
      ],
      "metadata": {
        "execution": {
          "iopub.status.busy": "2024-10-10T20:28:55.152282Z",
          "iopub.execute_input": "2024-10-10T20:28:55.152736Z",
          "iopub.status.idle": "2024-10-10T20:29:37.734038Z",
          "shell.execute_reply.started": "2024-10-10T20:28:55.152701Z",
          "shell.execute_reply": "2024-10-10T20:29:37.73321Z"
        },
        "trusted": true,
        "id": "yhOlp4OjiU-h"
      },
      "execution_count": null,
      "outputs": []
    },
    {
      "cell_type": "code",
      "source": [
        "learning_curves_plot(rnn_history, start_epoch=0)"
      ],
      "metadata": {
        "execution": {
          "iopub.status.busy": "2024-10-10T20:29:37.73534Z",
          "iopub.execute_input": "2024-10-10T20:29:37.735682Z",
          "iopub.status.idle": "2024-10-10T20:29:38.733235Z",
          "shell.execute_reply.started": "2024-10-10T20:29:37.735645Z",
          "shell.execute_reply": "2024-10-10T20:29:38.732234Z"
        },
        "trusted": true,
        "id": "DvzMRzfciU-h"
      },
      "execution_count": null,
      "outputs": []
    },
    {
      "cell_type": "markdown",
      "source": [
        "### Evaluation"
      ],
      "metadata": {
        "id": "sYPi_OT9iU-h"
      }
    },
    {
      "cell_type": "code",
      "source": [
        "rnn_loss, rnn_accuracy = rnn_model.evaluate(X_test, y_test, verbose=0)\n",
        "print(\"RNN Loss: \", rnn_loss)\n",
        "print(\"RNN Test Accuracy: \", rnn_accuracy)"
      ],
      "metadata": {
        "execution": {
          "iopub.status.busy": "2024-10-10T20:29:38.73465Z",
          "iopub.execute_input": "2024-10-10T20:29:38.735339Z",
          "iopub.status.idle": "2024-10-10T20:29:39.045153Z",
          "shell.execute_reply.started": "2024-10-10T20:29:38.735276Z",
          "shell.execute_reply": "2024-10-10T20:29:39.04418Z"
        },
        "trusted": true,
        "id": "Hzv2VdVMiU-h"
      },
      "execution_count": null,
      "outputs": []
    },
    {
      "cell_type": "code",
      "source": [
        "class_labels = ['Thyroid_Cancer', 'Colon_Cancer', 'Lung_Cancer']"
      ],
      "metadata": {
        "execution": {
          "iopub.status.busy": "2024-10-10T20:29:39.046443Z",
          "iopub.execute_input": "2024-10-10T20:29:39.046849Z",
          "iopub.status.idle": "2024-10-10T20:29:39.05184Z",
          "shell.execute_reply.started": "2024-10-10T20:29:39.046802Z",
          "shell.execute_reply": "2024-10-10T20:29:39.050789Z"
        },
        "trusted": true,
        "id": "2qJWF69-iU-k"
      },
      "execution_count": null,
      "outputs": []
    },
    {
      "cell_type": "code",
      "source": [
        "y_pred_rnn = np.argmax(rnn_model.predict(X_test), axis=-1)\n",
        "y_true = np.argmax(y_test, axis=-1)\n",
        "\n",
        "print(classification_report(y_true, y_pred_rnn, target_names= class_labels))"
      ],
      "metadata": {
        "execution": {
          "iopub.status.busy": "2024-10-10T20:29:39.053018Z",
          "iopub.execute_input": "2024-10-10T20:29:39.053405Z",
          "iopub.status.idle": "2024-10-10T20:29:39.87324Z",
          "shell.execute_reply.started": "2024-10-10T20:29:39.053339Z",
          "shell.execute_reply": "2024-10-10T20:29:39.872305Z"
        },
        "trusted": true,
        "id": "J36vwsPZiU-k"
      },
      "execution_count": null,
      "outputs": []
    },
    {
      "cell_type": "code",
      "source": [
        "conf_matrix_rnn = confusion_matrix(y_true, y_pred_rnn)\n",
        "\n",
        "plot_confusion_matrix(conf_matrix_rnn,\n",
        "                      class_names= class_labels,\n",
        "                      show_normed=True,\n",
        "                      figsize=(8,6),\n",
        "                      colorbar=True)\n",
        "\n",
        "plt.title('RNN Confusion Matrix')\n",
        "plt.show()"
      ],
      "metadata": {
        "execution": {
          "iopub.status.busy": "2024-10-10T20:29:39.874563Z",
          "iopub.execute_input": "2024-10-10T20:29:39.874955Z",
          "iopub.status.idle": "2024-10-10T20:29:40.127876Z",
          "shell.execute_reply.started": "2024-10-10T20:29:39.87491Z",
          "shell.execute_reply": "2024-10-10T20:29:40.126993Z"
        },
        "trusted": true,
        "id": "Jg3AXY4kiU-l"
      },
      "execution_count": null,
      "outputs": []
    },
    {
      "cell_type": "markdown",
      "source": [
        "## LSTM"
      ],
      "metadata": {
        "id": "CL0On-bRiU-l"
      }
    },
    {
      "cell_type": "code",
      "source": [
        "lstm_model = Sequential()\n",
        "lstm_model.add(Input(shape=(max_length,)))\n",
        "lstm_model.add(Embedding(vocab_size, embedding_dim, input_length=max_length))\n",
        "lstm_model.add(LSTM(128))\n",
        "lstm_model.add(Dense(3, activation='softmax'))"
      ],
      "metadata": {
        "execution": {
          "iopub.status.busy": "2024-10-10T20:29:40.129376Z",
          "iopub.execute_input": "2024-10-10T20:29:40.129813Z",
          "iopub.status.idle": "2024-10-10T20:29:40.187009Z",
          "shell.execute_reply.started": "2024-10-10T20:29:40.129766Z",
          "shell.execute_reply": "2024-10-10T20:29:40.186147Z"
        },
        "trusted": true,
        "id": "-2Rse6zfiU-l"
      },
      "execution_count": null,
      "outputs": []
    },
    {
      "cell_type": "code",
      "source": [
        "lstm_model.compile(optimizer='adam',\n",
        "                   loss='categorical_crossentropy',\n",
        "                   metrics=['accuracy'])"
      ],
      "metadata": {
        "execution": {
          "iopub.status.busy": "2024-10-10T20:29:40.188014Z",
          "iopub.execute_input": "2024-10-10T20:29:40.188301Z",
          "iopub.status.idle": "2024-10-10T20:29:40.196583Z",
          "shell.execute_reply.started": "2024-10-10T20:29:40.188253Z",
          "shell.execute_reply": "2024-10-10T20:29:40.195707Z"
        },
        "trusted": true,
        "id": "TNK4-dqaiU-l"
      },
      "execution_count": null,
      "outputs": []
    },
    {
      "cell_type": "code",
      "source": [
        "lstm_model.summary()"
      ],
      "metadata": {
        "execution": {
          "iopub.status.busy": "2024-10-10T20:29:40.197931Z",
          "iopub.execute_input": "2024-10-10T20:29:40.198368Z",
          "iopub.status.idle": "2024-10-10T20:29:40.218027Z",
          "shell.execute_reply.started": "2024-10-10T20:29:40.198306Z",
          "shell.execute_reply": "2024-10-10T20:29:40.217135Z"
        },
        "trusted": true,
        "id": "V_hcM5bYiU-l"
      },
      "execution_count": null,
      "outputs": []
    },
    {
      "cell_type": "code",
      "source": [
        "lstm_history=lstm_model.fit(\n",
        "    X_train, y_train,\n",
        "    validation_data=(X_valid, y_valid),\n",
        "    epochs=15,\n",
        "    batch_size=32)"
      ],
      "metadata": {
        "execution": {
          "iopub.status.busy": "2024-10-10T20:29:40.219206Z",
          "iopub.execute_input": "2024-10-10T20:29:40.21962Z",
          "iopub.status.idle": "2024-10-10T20:30:12.691486Z",
          "shell.execute_reply.started": "2024-10-10T20:29:40.219576Z",
          "shell.execute_reply": "2024-10-10T20:30:12.690646Z"
        },
        "trusted": true,
        "id": "FHv_ZXiLiU-l"
      },
      "execution_count": null,
      "outputs": []
    },
    {
      "cell_type": "code",
      "source": [
        "learning_curves_plot(lstm_history, start_epoch=0)"
      ],
      "metadata": {
        "execution": {
          "iopub.status.busy": "2024-10-10T20:30:12.69282Z",
          "iopub.execute_input": "2024-10-10T20:30:12.693149Z",
          "iopub.status.idle": "2024-10-10T20:30:13.469148Z",
          "shell.execute_reply.started": "2024-10-10T20:30:12.693114Z",
          "shell.execute_reply": "2024-10-10T20:30:13.468376Z"
        },
        "trusted": true,
        "id": "gFxFveXviU-l"
      },
      "execution_count": null,
      "outputs": []
    },
    {
      "cell_type": "markdown",
      "source": [
        "### Evaluation"
      ],
      "metadata": {
        "id": "fIlFTlhjiU-m"
      }
    },
    {
      "cell_type": "code",
      "source": [
        "lstm_loss, lstm_accuracy = lstm_model.evaluate(X_test, y_test)\n",
        "print(\"LSTM Loss: \", lstm_loss)\n",
        "print(\"LSTM Test Accuracy: \", lstm_accuracy)"
      ],
      "metadata": {
        "execution": {
          "iopub.status.busy": "2024-10-10T20:30:13.470182Z",
          "iopub.execute_input": "2024-10-10T20:30:13.47049Z",
          "iopub.status.idle": "2024-10-10T20:30:13.830845Z",
          "shell.execute_reply.started": "2024-10-10T20:30:13.470456Z",
          "shell.execute_reply": "2024-10-10T20:30:13.829969Z"
        },
        "trusted": true,
        "id": "ULDLGCbFiU-m"
      },
      "execution_count": null,
      "outputs": []
    },
    {
      "cell_type": "code",
      "source": [
        "y_pred_lstm = np.argmax(lstm_model.predict(X_test), axis=-1)\n",
        "y_true = np.argmax(y_test, axis=-1)\n",
        "\n",
        "print(classification_report(y_true, y_pred_lstm, target_names= class_labels))"
      ],
      "metadata": {
        "execution": {
          "iopub.status.busy": "2024-10-10T20:30:13.831996Z",
          "iopub.execute_input": "2024-10-10T20:30:13.832368Z",
          "iopub.status.idle": "2024-10-10T20:30:14.31842Z",
          "shell.execute_reply.started": "2024-10-10T20:30:13.832301Z",
          "shell.execute_reply": "2024-10-10T20:30:14.317377Z"
        },
        "trusted": true,
        "id": "J349tltbiU-m"
      },
      "execution_count": null,
      "outputs": []
    },
    {
      "cell_type": "code",
      "source": [
        "conf_matrix_lstm = confusion_matrix(y_true, y_pred_lstm)\n",
        "\n",
        "plot_confusion_matrix(conf_matrix_lstm,\n",
        "                      class_names= class_labels,\n",
        "                      show_normed=True,\n",
        "                      figsize=(8,6),\n",
        "                      colorbar=True)\n",
        "\n",
        "plt.title('LSTM Confusion Matrix')\n",
        "plt.show()"
      ],
      "metadata": {
        "execution": {
          "iopub.status.busy": "2024-10-10T20:30:14.319829Z",
          "iopub.execute_input": "2024-10-10T20:30:14.320178Z",
          "iopub.status.idle": "2024-10-10T20:30:14.644281Z",
          "shell.execute_reply.started": "2024-10-10T20:30:14.320143Z",
          "shell.execute_reply": "2024-10-10T20:30:14.643395Z"
        },
        "trusted": true,
        "id": "lrsp-ddPiU-m"
      },
      "execution_count": null,
      "outputs": []
    },
    {
      "cell_type": "markdown",
      "source": [
        "## LSTM (MultiLayer and Bidirectional)"
      ],
      "metadata": {
        "id": "2BqWSyF2iU-m"
      }
    },
    {
      "cell_type": "code",
      "source": [
        "bilstm_model = Sequential()\n",
        "bilstm_model.add(Input(shape=(max_length,)))\n",
        "bilstm_model.add(Embedding(vocab_size, embedding_dim, input_length=max_length))\n",
        "bilstm_model.add(Bidirectional(LSTM(128, return_sequences=True)))\n",
        "bilstm_model.add(Bidirectional(LSTM(64)))\n",
        "bilstm_model.add(Dense(3, activation='softmax'))"
      ],
      "metadata": {
        "execution": {
          "iopub.status.busy": "2024-10-10T20:30:14.645729Z",
          "iopub.execute_input": "2024-10-10T20:30:14.646126Z",
          "iopub.status.idle": "2024-10-10T20:30:14.757402Z",
          "shell.execute_reply.started": "2024-10-10T20:30:14.64608Z",
          "shell.execute_reply": "2024-10-10T20:30:14.756661Z"
        },
        "trusted": true,
        "id": "iBiruU8WiU-m"
      },
      "execution_count": null,
      "outputs": []
    },
    {
      "cell_type": "code",
      "source": [
        "bilstm_model.compile(optimizer='adam',\n",
        "                     loss='categorical_crossentropy',\n",
        "                     metrics=['accuracy'])"
      ],
      "metadata": {
        "execution": {
          "iopub.status.busy": "2024-10-10T20:30:14.758451Z",
          "iopub.execute_input": "2024-10-10T20:30:14.758727Z",
          "iopub.status.idle": "2024-10-10T20:30:14.766468Z",
          "shell.execute_reply.started": "2024-10-10T20:30:14.758696Z",
          "shell.execute_reply": "2024-10-10T20:30:14.765682Z"
        },
        "trusted": true,
        "id": "QLj0Gee7iU-m"
      },
      "execution_count": null,
      "outputs": []
    },
    {
      "cell_type": "code",
      "source": [
        "bilstm_history=bilstm_model.fit(\n",
        "    X_train,y_train,\n",
        "    validation_data=(X_valid, y_valid),\n",
        "    epochs=15,\n",
        "    batch_size=32)"
      ],
      "metadata": {
        "execution": {
          "iopub.status.busy": "2024-10-10T20:30:14.767567Z",
          "iopub.execute_input": "2024-10-10T20:30:14.76795Z",
          "iopub.status.idle": "2024-10-10T20:32:02.63441Z",
          "shell.execute_reply.started": "2024-10-10T20:30:14.767905Z",
          "shell.execute_reply": "2024-10-10T20:32:02.633522Z"
        },
        "trusted": true,
        "id": "DVOD-FkNiU-n"
      },
      "execution_count": null,
      "outputs": []
    },
    {
      "cell_type": "code",
      "source": [
        "learning_curves_plot(bilstm_history, start_epoch=0)"
      ],
      "metadata": {
        "execution": {
          "iopub.status.busy": "2024-10-10T20:32:02.636091Z",
          "iopub.execute_input": "2024-10-10T20:32:02.636674Z",
          "iopub.status.idle": "2024-10-10T20:32:03.455669Z",
          "shell.execute_reply.started": "2024-10-10T20:32:02.636638Z",
          "shell.execute_reply": "2024-10-10T20:32:03.454715Z"
        },
        "trusted": true,
        "id": "lCghOkJUiU-n"
      },
      "execution_count": null,
      "outputs": []
    },
    {
      "cell_type": "markdown",
      "source": [
        "### Evaluation"
      ],
      "metadata": {
        "id": "G-hlrkoziU-n"
      }
    },
    {
      "cell_type": "code",
      "source": [
        "bilstm_loss, bilstm_accuracy = bilstm_model.evaluate(X_test, y_test)\n",
        "print(\"Bi-LSTM Loss: \", bilstm_loss)\n",
        "print(\"Bi-LSTM Test Accuracy: \", bilstm_accuracy)"
      ],
      "metadata": {
        "execution": {
          "iopub.status.busy": "2024-10-10T20:32:03.456912Z",
          "iopub.execute_input": "2024-10-10T20:32:03.457227Z",
          "iopub.status.idle": "2024-10-10T20:32:04.426229Z",
          "shell.execute_reply.started": "2024-10-10T20:32:03.457192Z",
          "shell.execute_reply": "2024-10-10T20:32:04.425374Z"
        },
        "trusted": true,
        "id": "7iqUAS6xiU-n"
      },
      "execution_count": null,
      "outputs": []
    },
    {
      "cell_type": "code",
      "source": [
        "y_pred_bilstm = np.argmax(bilstm_model.predict(X_test), axis=-1)\n",
        "y_true = np.argmax(y_test, axis=-1)\n",
        "\n",
        "print(classification_report(y_true, y_pred_bilstm, target_names= class_labels))"
      ],
      "metadata": {
        "execution": {
          "iopub.status.busy": "2024-10-10T20:32:04.427371Z",
          "iopub.execute_input": "2024-10-10T20:32:04.427689Z",
          "iopub.status.idle": "2024-10-10T20:32:06.004708Z",
          "shell.execute_reply.started": "2024-10-10T20:32:04.427654Z",
          "shell.execute_reply": "2024-10-10T20:32:06.003901Z"
        },
        "trusted": true,
        "id": "Icx7bxspiU-n"
      },
      "execution_count": null,
      "outputs": []
    },
    {
      "cell_type": "code",
      "source": [
        "conf_matrix_bilstm = confusion_matrix(y_true, y_pred_bilstm)\n",
        "\n",
        "plot_confusion_matrix(conf_matrix_bilstm,\n",
        "                      class_names= class_labels,\n",
        "                      show_normed=True,\n",
        "                      figsize=(8,6),\n",
        "                      colorbar=True)\n",
        "\n",
        "plt.title('Bi-LSTM Confusion Matrix')\n",
        "plt.show()"
      ],
      "metadata": {
        "execution": {
          "iopub.status.busy": "2024-10-10T20:32:06.005998Z",
          "iopub.execute_input": "2024-10-10T20:32:06.00699Z",
          "iopub.status.idle": "2024-10-10T20:32:06.341372Z",
          "shell.execute_reply.started": "2024-10-10T20:32:06.006944Z",
          "shell.execute_reply": "2024-10-10T20:32:06.340377Z"
        },
        "trusted": true,
        "id": "DHI3fJtZiU-n"
      },
      "execution_count": null,
      "outputs": []
    },
    {
      "cell_type": "markdown",
      "source": [
        "## GRU (MultiLayer and Bidirectional)"
      ],
      "metadata": {
        "id": "4U6U0mMRiU-n"
      }
    },
    {
      "cell_type": "code",
      "source": [
        "bigru_model = Sequential()\n",
        "bigru_model.add(Input(shape=(max_length,)))\n",
        "bigru_model.add(Embedding(vocab_size, embedding_dim, input_length=max_length))\n",
        "bigru_model.add(Bidirectional(GRU(128, return_sequences=True)))\n",
        "bigru_model.add(Bidirectional(GRU(64)))\n",
        "bigru_model.add(Dense(3, activation='softmax'))"
      ],
      "metadata": {
        "execution": {
          "iopub.status.busy": "2024-10-10T20:32:06.342737Z",
          "iopub.execute_input": "2024-10-10T20:32:06.343175Z",
          "iopub.status.idle": "2024-10-10T20:32:06.454274Z",
          "shell.execute_reply.started": "2024-10-10T20:32:06.343127Z",
          "shell.execute_reply": "2024-10-10T20:32:06.453499Z"
        },
        "trusted": true,
        "id": "jl5xXf-UiU-o"
      },
      "execution_count": null,
      "outputs": []
    },
    {
      "cell_type": "code",
      "source": [
        "bigru_model.compile(optimizer='adam',\n",
        "                    loss='categorical_crossentropy',\n",
        "                    metrics=['accuracy'])"
      ],
      "metadata": {
        "execution": {
          "iopub.status.busy": "2024-10-10T20:32:06.455244Z",
          "iopub.execute_input": "2024-10-10T20:32:06.455553Z",
          "iopub.status.idle": "2024-10-10T20:32:06.463968Z",
          "shell.execute_reply.started": "2024-10-10T20:32:06.455516Z",
          "shell.execute_reply": "2024-10-10T20:32:06.463161Z"
        },
        "trusted": true,
        "id": "dSe9vm7qiU-o"
      },
      "execution_count": null,
      "outputs": []
    },
    {
      "cell_type": "code",
      "source": [
        "bigru_model.summary()"
      ],
      "metadata": {
        "execution": {
          "iopub.status.busy": "2024-10-10T20:32:06.465135Z",
          "iopub.execute_input": "2024-10-10T20:32:06.465513Z",
          "iopub.status.idle": "2024-10-10T20:32:06.485635Z",
          "shell.execute_reply.started": "2024-10-10T20:32:06.46548Z",
          "shell.execute_reply": "2024-10-10T20:32:06.484781Z"
        },
        "trusted": true,
        "id": "nLZoIH7biU-o"
      },
      "execution_count": null,
      "outputs": []
    },
    {
      "cell_type": "code",
      "source": [
        "bigru_history=bigru_model.fit(\n",
        "    X_train, y_train,\n",
        "    validation_data=(X_valid, y_valid),\n",
        "    epochs=15,\n",
        "    batch_size=32)"
      ],
      "metadata": {
        "execution": {
          "iopub.status.busy": "2024-10-10T20:32:06.486632Z",
          "iopub.execute_input": "2024-10-10T20:32:06.486879Z",
          "iopub.status.idle": "2024-10-10T20:33:50.871147Z",
          "shell.execute_reply.started": "2024-10-10T20:32:06.486851Z",
          "shell.execute_reply": "2024-10-10T20:33:50.870382Z"
        },
        "trusted": true,
        "id": "eFMbugOtiU-o"
      },
      "execution_count": null,
      "outputs": []
    },
    {
      "cell_type": "code",
      "source": [
        "learning_curves_plot(bigru_history, start_epoch=0)"
      ],
      "metadata": {
        "execution": {
          "iopub.status.busy": "2024-10-10T20:33:50.880383Z",
          "iopub.execute_input": "2024-10-10T20:33:50.880734Z",
          "iopub.status.idle": "2024-10-10T20:33:51.683249Z",
          "shell.execute_reply.started": "2024-10-10T20:33:50.880696Z",
          "shell.execute_reply": "2024-10-10T20:33:51.682363Z"
        },
        "trusted": true,
        "id": "O3tQLGWziU-o"
      },
      "execution_count": null,
      "outputs": []
    },
    {
      "cell_type": "markdown",
      "source": [
        "### Evaluation"
      ],
      "metadata": {
        "id": "IuSTryIViU-o"
      }
    },
    {
      "cell_type": "code",
      "source": [
        "bigru_loss, bigru_accuracy = bigru_model.evaluate(X_test, y_test)\n",
        "print(\"Bi-GRU Loss: \", bigru_loss)\n",
        "print(\"Bi-GRU Test Accuracy: \", bigru_accuracy)"
      ],
      "metadata": {
        "execution": {
          "iopub.status.busy": "2024-10-10T20:33:51.684369Z",
          "iopub.execute_input": "2024-10-10T20:33:51.684664Z",
          "iopub.status.idle": "2024-10-10T20:33:52.590152Z",
          "shell.execute_reply.started": "2024-10-10T20:33:51.684631Z",
          "shell.execute_reply": "2024-10-10T20:33:52.589325Z"
        },
        "trusted": true,
        "id": "gPJzN4RriU-p"
      },
      "execution_count": null,
      "outputs": []
    },
    {
      "cell_type": "code",
      "source": [
        "y_pred_bigru = np.argmax(bigru_model.predict(X_test), axis=-1)\n",
        "y_true = np.argmax(y_test, axis=-1)\n",
        "\n",
        "print(classification_report(y_true, y_pred_bigru, target_names= class_labels))"
      ],
      "metadata": {
        "execution": {
          "iopub.status.busy": "2024-10-10T20:33:52.591294Z",
          "iopub.execute_input": "2024-10-10T20:33:52.591656Z",
          "iopub.status.idle": "2024-10-10T20:33:53.930175Z",
          "shell.execute_reply.started": "2024-10-10T20:33:52.59162Z",
          "shell.execute_reply": "2024-10-10T20:33:53.929267Z"
        },
        "trusted": true,
        "id": "SqHrDuhCiU-p"
      },
      "execution_count": null,
      "outputs": []
    },
    {
      "cell_type": "code",
      "source": [
        "conf_matrix_bigru = confusion_matrix(y_true, y_pred_bigru)\n",
        "\n",
        "plot_confusion_matrix(conf_matrix_bigru,\n",
        "                      class_names= class_labels,\n",
        "                      show_normed=True,\n",
        "                      figsize=(8,6),\n",
        "                      colorbar=True)\n",
        "\n",
        "plt.title('Bi-GRU Confusion Matrix')\n",
        "plt.show()"
      ],
      "metadata": {
        "execution": {
          "iopub.status.busy": "2024-10-10T20:33:53.931509Z",
          "iopub.execute_input": "2024-10-10T20:33:53.931866Z",
          "iopub.status.idle": "2024-10-10T20:33:54.180296Z",
          "shell.execute_reply.started": "2024-10-10T20:33:53.931831Z",
          "shell.execute_reply": "2024-10-10T20:33:54.179389Z"
        },
        "trusted": true,
        "id": "ColCVY4viU-p"
      },
      "execution_count": null,
      "outputs": []
    },
    {
      "cell_type": "markdown",
      "source": [
        "## Conv1D"
      ],
      "metadata": {
        "id": "C61XdUpGiU-p"
      }
    },
    {
      "cell_type": "code",
      "source": [
        "conv1d_model = Sequential()\n",
        "conv1d_model.add(Input(shape=(max_length,)))\n",
        "conv1d_model.add(Embedding(vocab_size, embedding_dim, input_length=max_length))\n",
        "conv1d_model.add(Conv1D(filters=128, kernel_size=5, activation='relu'))\n",
        "conv1d_model.add(MaxPooling1D(pool_size=2))\n",
        "conv1d_model.add(Flatten())\n",
        "conv1d_model.add(Dense(3, activation='softmax'))"
      ],
      "metadata": {
        "execution": {
          "iopub.status.busy": "2024-10-10T20:33:54.181702Z",
          "iopub.execute_input": "2024-10-10T20:33:54.18213Z",
          "iopub.status.idle": "2024-10-10T20:33:54.230085Z",
          "shell.execute_reply.started": "2024-10-10T20:33:54.182082Z",
          "shell.execute_reply": "2024-10-10T20:33:54.229356Z"
        },
        "trusted": true,
        "id": "oHFuA8dsiU-p"
      },
      "execution_count": null,
      "outputs": []
    },
    {
      "cell_type": "code",
      "source": [
        "conv1d_model.compile(optimizer='adam',\n",
        "                     loss='categorical_crossentropy',\n",
        "                     metrics=['accuracy'])"
      ],
      "metadata": {
        "execution": {
          "iopub.status.busy": "2024-10-10T20:33:54.231097Z",
          "iopub.execute_input": "2024-10-10T20:33:54.231405Z",
          "iopub.status.idle": "2024-10-10T20:33:54.707419Z",
          "shell.execute_reply.started": "2024-10-10T20:33:54.231373Z",
          "shell.execute_reply": "2024-10-10T20:33:54.706547Z"
        },
        "trusted": true,
        "id": "izRHyi2GiU-p"
      },
      "execution_count": null,
      "outputs": []
    },
    {
      "cell_type": "code",
      "source": [
        "conv1d_model.summary()"
      ],
      "metadata": {
        "execution": {
          "iopub.status.busy": "2024-10-10T20:33:54.708813Z",
          "iopub.execute_input": "2024-10-10T20:33:54.709197Z",
          "iopub.status.idle": "2024-10-10T20:33:54.72893Z",
          "shell.execute_reply.started": "2024-10-10T20:33:54.709153Z",
          "shell.execute_reply": "2024-10-10T20:33:54.728098Z"
        },
        "trusted": true,
        "id": "Ft7U8aW_iU-p"
      },
      "execution_count": null,
      "outputs": []
    },
    {
      "cell_type": "code",
      "source": [
        "conv1d_history=conv1d_model.fit(\n",
        "    X_train, y_train,\n",
        "    validation_data=(X_valid, y_valid),\n",
        "    epochs=15,\n",
        "    batch_size=32)"
      ],
      "metadata": {
        "execution": {
          "iopub.status.busy": "2024-10-10T20:33:54.730088Z",
          "iopub.execute_input": "2024-10-10T20:33:54.730397Z",
          "iopub.status.idle": "2024-10-10T20:34:06.422866Z",
          "shell.execute_reply.started": "2024-10-10T20:33:54.730364Z",
          "shell.execute_reply": "2024-10-10T20:34:06.422089Z"
        },
        "trusted": true,
        "id": "Xxe-t28fiU-q"
      },
      "execution_count": null,
      "outputs": []
    },
    {
      "cell_type": "code",
      "source": [
        "learning_curves_plot(conv1d_history, start_epoch=0)"
      ],
      "metadata": {
        "execution": {
          "iopub.status.busy": "2024-10-10T20:34:06.42442Z",
          "iopub.execute_input": "2024-10-10T20:34:06.424709Z",
          "iopub.status.idle": "2024-10-10T20:34:07.069962Z",
          "shell.execute_reply.started": "2024-10-10T20:34:06.424676Z",
          "shell.execute_reply": "2024-10-10T20:34:07.068985Z"
        },
        "trusted": true,
        "id": "EZn2qFVIiU-q"
      },
      "execution_count": null,
      "outputs": []
    },
    {
      "cell_type": "markdown",
      "source": [
        "### Evaluation"
      ],
      "metadata": {
        "id": "RNnUgXWZiU-q"
      }
    },
    {
      "cell_type": "code",
      "source": [
        "conv1d_loss, conv1d_accuracy = conv1d_model.evaluate(X_test, y_test)\n",
        "print(\"Conv1D Loss: \", conv1d_loss)\n",
        "print(\"Conv1D Test Accuracy: \", conv1d_accuracy)"
      ],
      "metadata": {
        "execution": {
          "iopub.status.busy": "2024-10-10T20:34:07.071144Z",
          "iopub.execute_input": "2024-10-10T20:34:07.071578Z",
          "iopub.status.idle": "2024-10-10T20:34:07.208152Z",
          "shell.execute_reply.started": "2024-10-10T20:34:07.071515Z",
          "shell.execute_reply": "2024-10-10T20:34:07.207198Z"
        },
        "trusted": true,
        "id": "p6ItO2VQiU-q"
      },
      "execution_count": null,
      "outputs": []
    },
    {
      "cell_type": "code",
      "source": [
        "y_pred_conv1d = np.argmax(conv1d_model.predict(X_test), axis=-1)\n",
        "y_true = np.argmax(y_test, axis=-1)\n",
        "\n",
        "print(classification_report(y_true, y_pred_conv1d, target_names= class_labels))"
      ],
      "metadata": {
        "execution": {
          "iopub.status.busy": "2024-10-10T20:34:07.209279Z",
          "iopub.execute_input": "2024-10-10T20:34:07.209653Z",
          "iopub.status.idle": "2024-10-10T20:34:07.732304Z",
          "shell.execute_reply.started": "2024-10-10T20:34:07.209618Z",
          "shell.execute_reply": "2024-10-10T20:34:07.731364Z"
        },
        "trusted": true,
        "id": "IM3123cxiU-q"
      },
      "execution_count": null,
      "outputs": []
    },
    {
      "cell_type": "code",
      "source": [
        "conf_matrix_conv1d = confusion_matrix(y_true, y_pred_conv1d)\n",
        "\n",
        "plot_confusion_matrix(conf_matrix_conv1d,\n",
        "                      class_names= class_labels,\n",
        "                      show_normed=True,\n",
        "                      figsize=(8,6),\n",
        "                      colorbar=True)\n",
        "\n",
        "plt.title('Conv1D Confusion Matrix')\n",
        "plt.show()"
      ],
      "metadata": {
        "execution": {
          "iopub.status.busy": "2024-10-10T20:34:07.733466Z",
          "iopub.execute_input": "2024-10-10T20:34:07.733799Z",
          "iopub.status.idle": "2024-10-10T20:34:08.056275Z",
          "shell.execute_reply.started": "2024-10-10T20:34:07.733763Z",
          "shell.execute_reply": "2024-10-10T20:34:08.055397Z"
        },
        "trusted": true,
        "id": "pcREYjn7iU-q"
      },
      "execution_count": null,
      "outputs": []
    },
    {
      "cell_type": "markdown",
      "source": [
        "# Thank you"
      ],
      "metadata": {
        "id": "grAbFRBgiU-q"
      }
    }
  ]
}